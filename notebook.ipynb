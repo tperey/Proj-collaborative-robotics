{
 "cells": [
  {
   "cell_type": "code",
   "execution_count": 1,
   "metadata": {},
   "outputs": [
    {
     "data": {
      "text/plain": [
       "array([0.39050152, 0.36976065, 0.3122862 ])"
      ]
     },
     "execution_count": 1,
     "metadata": {},
     "output_type": "execute_result"
    }
   ],
   "source": [
    "import numpy as np\n",
    "\n",
    "v_camera = np.array([0.05190135, 0.13359855, 0.52, 1.0])\n",
    "transformation_matrix = np.array([\n",
    "    [ 0.70788002,  0.04454369,  0.70492676, -0.0187513 ],\n",
    "    [-0.70615224,  0.02207161,  0.70771594,  0.03544988],\n",
    "    [ 0.01596541, -0.99876359,  0.04707868,  0.42041003]\n",
    "])\n",
    "\n",
    "transformation_matrix @ v_camera"
   ]
  },
  {
   "cell_type": "code",
   "execution_count": 2,
   "metadata": {},
   "outputs": [
    {
     "ename": "ValueError",
     "evalue": "matmul: Input operand 1 has a mismatch in its core dimension 0, with gufunc signature (n?,k),(k,m?)->(n?,m?) (size 4 is different from 3)",
     "output_type": "error",
     "traceback": [
      "\u001b[0;31m---------------------------------------------------------------------------\u001b[0m",
      "\u001b[0;31mValueError\u001b[0m                                Traceback (most recent call last)",
      "Cell \u001b[0;32mIn[2], line 26\u001b[0m\n\u001b[1;32m     23\u001b[0m permuted_matrix \u001b[38;5;241m=\u001b[39m np\u001b[38;5;241m.\u001b[39mcolumn_stack(perm)\n\u001b[1;32m     25\u001b[0m \u001b[38;5;66;03m# Perform matrix multiplication\u001b[39;00m\n\u001b[0;32m---> 26\u001b[0m result \u001b[38;5;241m=\u001b[39m \u001b[43mpermuted_matrix\u001b[49m\u001b[43m \u001b[49m\u001b[38;5;241;43m@\u001b[39;49m\u001b[43m \u001b[49m\u001b[43mv_camera\u001b[49m\n\u001b[1;32m     27\u001b[0m \u001b[38;5;28mprint\u001b[39m(\u001b[38;5;124mf\u001b[39m\u001b[38;5;124m\"\u001b[39m\u001b[38;5;124mResult of multiplication with permutation \u001b[39m\u001b[38;5;132;01m{\u001b[39;00mperm\u001b[38;5;132;01m}\u001b[39;00m\u001b[38;5;124m:\u001b[39m\u001b[38;5;130;01m\\n\u001b[39;00m\u001b[38;5;132;01m{\u001b[39;00mresult\u001b[38;5;132;01m}\u001b[39;00m\u001b[38;5;130;01m\\n\u001b[39;00m\u001b[38;5;124m\"\u001b[39m)\n",
      "\u001b[0;31mValueError\u001b[0m: matmul: Input operand 1 has a mismatch in its core dimension 0, with gufunc signature (n?,k),(k,m?)->(n?,m?) (size 4 is different from 3)"
     ]
    }
   ],
   "source": [
    "import numpy as np\n",
    "import itertools\n",
    "\n",
    "# Camera vector\n",
    "v_camera = np.array([0.05190135, 0.13359855, 0.52, 1.0])\n",
    "\n",
    "# Transformation matrix\n",
    "transformation_matrix = np.array([\n",
    "    [ 0.70788002,  0.04454369,  0.70492676, -0.0187513 ],\n",
    "    [-0.70615224,  0.02207161,  0.70771594,  0.03544988],\n",
    "    [ 0.01596541, -0.99876359,  0.04707868,  0.42041003]\n",
    "])\n",
    "\n",
    "# Extract the first three columns from the transformation matrix\n",
    "columns = transformation_matrix[:, :3]  # 3 columns, all rows\n",
    "\n",
    "# Generate all permutations of the 3 column vectors\n",
    "permutations = itertools.permutations(columns.T)  # .T transposes the columns for permutations\n",
    "\n",
    "# Multiply each permutation of the columns by the camera vector\n",
    "for perm in permutations:\n",
    "    # Construct the new matrix with permuted columns\n",
    "    permuted_matrix = np.column_stack(perm)\n",
    "    \n",
    "    # Perform matrix multiplication\n",
    "    result = permuted_matrix @ v_camera\n",
    "    print(f\"Result of multiplication with permutation {perm}:\\n{result}\\n\")\n"
   ]
  },
  {
   "cell_type": "code",
   "execution_count": null,
   "metadata": {},
   "outputs": [],
   "source": []
  }
 ],
 "metadata": {
  "kernelspec": {
   "display_name": "usr",
   "language": "python",
   "name": "python3"
  },
  "language_info": {
   "codemirror_mode": {
    "name": "ipython",
    "version": 3
   },
   "file_extension": ".py",
   "mimetype": "text/x-python",
   "name": "python",
   "nbconvert_exporter": "python",
   "pygments_lexer": "ipython3",
   "version": "3.10.12"
  }
 },
 "nbformat": 4,
 "nbformat_minor": 2
}
